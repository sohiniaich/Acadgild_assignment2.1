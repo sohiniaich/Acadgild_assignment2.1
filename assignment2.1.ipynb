{
 "cells": [
  {
   "cell_type": "code",
   "execution_count": 4,
   "metadata": {},
   "outputs": [
    {
     "name": "stdout",
     "output_type": "stream",
     "text": [
      "[24, 34, 13, 145, 21]\n",
      "237\n"
     ]
    }
   ],
   "source": [
    "'''A Python Program to implement your own myreduce() function which works exactly\n",
    "like Python's built-in function reduce()'''\n",
    "\n",
    "def myreduce(operat,lst1):\n",
    "    value1=lst1[0]\n",
    "    print(lst1)\n",
    "    \n",
    "    for i in range(1,len(lst1)):\n",
    "        value1=operator(operat,value1,lst1[i])\n",
    "    return value1\n",
    "\n",
    "def operator(operat,value1,value2):\n",
    "        if (operat=='+'):\n",
    "            value1=value1+value2\n",
    "        elif(operat=='-'):\n",
    "            value1=value1+value2\n",
    "        elif(operat=='/'):\n",
    "            value1=value1+value2\n",
    "        \n",
    "        return value1\n",
    "    \n",
    "l1=[24,34,13,145,21]\n",
    "finallist=myreduce('+',l1)\n",
    "\n",
    "print(finallist)"
   ]
  },
  {
   "cell_type": "code",
   "execution_count": 6,
   "metadata": {},
   "outputs": [
    {
     "name": "stdout",
     "output_type": "stream",
     "text": [
      "[1, 2, 3, 4, 5, 6]\n",
      "[1, 3, 5]\n",
      "[1, 2, 3, 4, 5, 6]\n",
      "[2, 4, 6]\n",
      "[1, 2, 3, 4, 5, 6]\n",
      "[1, 2, 3, 5]\n"
     ]
    }
   ],
   "source": [
    "'''A Python program to implement your own myfilter() function which works exactly\n",
    "like Python's built-in function filter()'''\n",
    "\n",
    "def is_even(num):\n",
    "    if num%2==0:\n",
    "        return num\n",
    "    \n",
    "def is_odd(num):\n",
    "    if num%2==1:\n",
    "        return num\n",
    "\n",
    "def is_prime(num):\n",
    "    for i in range(2,num):\n",
    "        if num%i==0:\n",
    "            break\n",
    "    else:\n",
    "        return num\n",
    "\n",
    "def myfilter(func,lst1):\n",
    "    print(lst1)\n",
    "    finallist=list()\n",
    "    for i in lst1:\n",
    "        if(not func(i) is None):\n",
    "            finallist.append(func(i))\n",
    "    return finallist\n",
    "newlist=[1,2,3,4,5,6]\n",
    "\n",
    "abc=myfilter(is_odd,newlist)\n",
    "print(abc)\n",
    "\n",
    "abc=myfilter(is_even,newlist)\n",
    "print(abc)\n",
    "\n",
    "abc=myfilter(is_prime,newlist)\n",
    "print(abc)"
   ]
  }
 ],
 "metadata": {
  "kernelspec": {
   "display_name": "Python 3",
   "language": "python",
   "name": "python3"
  },
  "language_info": {
   "codemirror_mode": {
    "name": "ipython",
    "version": 3
   },
   "file_extension": ".py",
   "mimetype": "text/x-python",
   "name": "python",
   "nbconvert_exporter": "python",
   "pygments_lexer": "ipython3",
   "version": "3.6.4"
  }
 },
 "nbformat": 4,
 "nbformat_minor": 2
}
